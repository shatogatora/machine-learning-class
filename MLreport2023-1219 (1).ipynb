{
 "cells": [
  {
   "cell_type": "markdown",
   "id": "323c734f-1fcb-4804-a981-e37da3c632b5",
   "metadata": {},
   "source": [
    "## kaggle Titanic-Machine Learning from Disaster のデータを用いた、機械学習モデル間の予測精度の観察\n",
    "\n",
    "### J2200036 小野　慧\n",
    "\n",
    "このレポートでは、kaggleよりTitanic-Machine Learning from Disasterのデータを用いて、複数のモデルにおける予測精度を観察する。\n",
    "\n",
    "元データ https://www.kaggle.com/competitions/titanic/data#\n",
    "\n",
    "データにはtrain.csvとtest.csvがあり、titanic号の乗船者に関する情報が含まれている。欠損値を含みtrain.csvには891のデータがあり、test.csvには418のデータがある。\n",
    "test.csvはtrain.csvとはデータの内容が少し異なり、乗客の生死に関するデータがない。ゆえに、train.csvを教師データとして乗客の生死を学習し、test.csvにおける生死を予測する。"
   ]
  },
  {
   "cell_type": "markdown",
   "id": "c8699d6d-ffc3-4fa0-90c9-5c388dfd71aa",
   "metadata": {},
   "source": [
    "### 1.データを観察する"
   ]
  },
  {
   "cell_type": "markdown",
   "id": "1f26ab8f-8a97-42a9-9ec2-d80895277b4d",
   "metadata": {},
   "source": [
    "#### 1.1データそのものを観察\n",
    "まずはデータがどのようなものか、欠損値はどれほどあるのかを観察する。"
   ]
  },
  {
   "cell_type": "code",
   "execution_count": 62,
   "id": "5b65654a-ffa2-40e2-bd2e-6da8f7d4b5a6",
   "metadata": {},
   "outputs": [],
   "source": [
    "#ライブラリやファイルなどをダウンロード\n",
    "\n",
    "import pandas as pd\n",
    "import matplotlib.pyplot as plt\n",
    "import numpy as np\n",
    "import seaborn as sns\n",
    "from sklearn.compose import ColumnTransformer\n",
    "from sklearn.preprocessing import LabelEncoder, OneHotEncoder  \n",
    "\n",
    "train = pd.read_csv(\"kaggle-titanic/train.csv\")\n",
    "test = pd.read_csv(\"kaggle-titanic/test.csv\")"
   ]
  },
  {
   "cell_type": "code",
   "execution_count": 26,
   "id": "b5d0c62a-8dec-4629-acbd-7c1cd6da65be",
   "metadata": {},
   "outputs": [
    {
     "data": {
      "text/html": [
       "<div>\n",
       "<style scoped>\n",
       "    .dataframe tbody tr th:only-of-type {\n",
       "        vertical-align: middle;\n",
       "    }\n",
       "\n",
       "    .dataframe tbody tr th {\n",
       "        vertical-align: top;\n",
       "    }\n",
       "\n",
       "    .dataframe thead th {\n",
       "        text-align: right;\n",
       "    }\n",
       "</style>\n",
       "<table border=\"1\" class=\"dataframe\">\n",
       "  <thead>\n",
       "    <tr style=\"text-align: right;\">\n",
       "      <th></th>\n",
       "      <th>PassengerId</th>\n",
       "      <th>Survived</th>\n",
       "      <th>Pclass</th>\n",
       "      <th>Name</th>\n",
       "      <th>Sex</th>\n",
       "      <th>Age</th>\n",
       "      <th>SibSp</th>\n",
       "      <th>Parch</th>\n",
       "      <th>Ticket</th>\n",
       "      <th>Fare</th>\n",
       "      <th>Cabin</th>\n",
       "      <th>Embarked</th>\n",
       "    </tr>\n",
       "  </thead>\n",
       "  <tbody>\n",
       "    <tr>\n",
       "      <th>0</th>\n",
       "      <td>1</td>\n",
       "      <td>0</td>\n",
       "      <td>3</td>\n",
       "      <td>Braund, Mr. Owen Harris</td>\n",
       "      <td>male</td>\n",
       "      <td>22.0</td>\n",
       "      <td>1</td>\n",
       "      <td>0</td>\n",
       "      <td>A/5 21171</td>\n",
       "      <td>7.2500</td>\n",
       "      <td>NaN</td>\n",
       "      <td>S</td>\n",
       "    </tr>\n",
       "    <tr>\n",
       "      <th>1</th>\n",
       "      <td>2</td>\n",
       "      <td>1</td>\n",
       "      <td>1</td>\n",
       "      <td>Cumings, Mrs. John Bradley (Florence Briggs Th...</td>\n",
       "      <td>female</td>\n",
       "      <td>38.0</td>\n",
       "      <td>1</td>\n",
       "      <td>0</td>\n",
       "      <td>PC 17599</td>\n",
       "      <td>71.2833</td>\n",
       "      <td>C85</td>\n",
       "      <td>C</td>\n",
       "    </tr>\n",
       "    <tr>\n",
       "      <th>2</th>\n",
       "      <td>3</td>\n",
       "      <td>1</td>\n",
       "      <td>3</td>\n",
       "      <td>Heikkinen, Miss. Laina</td>\n",
       "      <td>female</td>\n",
       "      <td>26.0</td>\n",
       "      <td>0</td>\n",
       "      <td>0</td>\n",
       "      <td>STON/O2. 3101282</td>\n",
       "      <td>7.9250</td>\n",
       "      <td>NaN</td>\n",
       "      <td>S</td>\n",
       "    </tr>\n",
       "    <tr>\n",
       "      <th>3</th>\n",
       "      <td>4</td>\n",
       "      <td>1</td>\n",
       "      <td>1</td>\n",
       "      <td>Futrelle, Mrs. Jacques Heath (Lily May Peel)</td>\n",
       "      <td>female</td>\n",
       "      <td>35.0</td>\n",
       "      <td>1</td>\n",
       "      <td>0</td>\n",
       "      <td>113803</td>\n",
       "      <td>53.1000</td>\n",
       "      <td>C123</td>\n",
       "      <td>S</td>\n",
       "    </tr>\n",
       "    <tr>\n",
       "      <th>4</th>\n",
       "      <td>5</td>\n",
       "      <td>0</td>\n",
       "      <td>3</td>\n",
       "      <td>Allen, Mr. William Henry</td>\n",
       "      <td>male</td>\n",
       "      <td>35.0</td>\n",
       "      <td>0</td>\n",
       "      <td>0</td>\n",
       "      <td>373450</td>\n",
       "      <td>8.0500</td>\n",
       "      <td>NaN</td>\n",
       "      <td>S</td>\n",
       "    </tr>\n",
       "    <tr>\n",
       "      <th>5</th>\n",
       "      <td>6</td>\n",
       "      <td>0</td>\n",
       "      <td>3</td>\n",
       "      <td>Moran, Mr. James</td>\n",
       "      <td>male</td>\n",
       "      <td>NaN</td>\n",
       "      <td>0</td>\n",
       "      <td>0</td>\n",
       "      <td>330877</td>\n",
       "      <td>8.4583</td>\n",
       "      <td>NaN</td>\n",
       "      <td>Q</td>\n",
       "    </tr>\n",
       "    <tr>\n",
       "      <th>6</th>\n",
       "      <td>7</td>\n",
       "      <td>0</td>\n",
       "      <td>1</td>\n",
       "      <td>McCarthy, Mr. Timothy J</td>\n",
       "      <td>male</td>\n",
       "      <td>54.0</td>\n",
       "      <td>0</td>\n",
       "      <td>0</td>\n",
       "      <td>17463</td>\n",
       "      <td>51.8625</td>\n",
       "      <td>E46</td>\n",
       "      <td>S</td>\n",
       "    </tr>\n",
       "    <tr>\n",
       "      <th>7</th>\n",
       "      <td>8</td>\n",
       "      <td>0</td>\n",
       "      <td>3</td>\n",
       "      <td>Palsson, Master. Gosta Leonard</td>\n",
       "      <td>male</td>\n",
       "      <td>2.0</td>\n",
       "      <td>3</td>\n",
       "      <td>1</td>\n",
       "      <td>349909</td>\n",
       "      <td>21.0750</td>\n",
       "      <td>NaN</td>\n",
       "      <td>S</td>\n",
       "    </tr>\n",
       "    <tr>\n",
       "      <th>8</th>\n",
       "      <td>9</td>\n",
       "      <td>1</td>\n",
       "      <td>3</td>\n",
       "      <td>Johnson, Mrs. Oscar W (Elisabeth Vilhelmina Berg)</td>\n",
       "      <td>female</td>\n",
       "      <td>27.0</td>\n",
       "      <td>0</td>\n",
       "      <td>2</td>\n",
       "      <td>347742</td>\n",
       "      <td>11.1333</td>\n",
       "      <td>NaN</td>\n",
       "      <td>S</td>\n",
       "    </tr>\n",
       "    <tr>\n",
       "      <th>9</th>\n",
       "      <td>10</td>\n",
       "      <td>1</td>\n",
       "      <td>2</td>\n",
       "      <td>Nasser, Mrs. Nicholas (Adele Achem)</td>\n",
       "      <td>female</td>\n",
       "      <td>14.0</td>\n",
       "      <td>1</td>\n",
       "      <td>0</td>\n",
       "      <td>237736</td>\n",
       "      <td>30.0708</td>\n",
       "      <td>NaN</td>\n",
       "      <td>C</td>\n",
       "    </tr>\n",
       "  </tbody>\n",
       "</table>\n",
       "</div>"
      ],
      "text/plain": [
       "   PassengerId  Survived  Pclass  \\\n",
       "0            1         0       3   \n",
       "1            2         1       1   \n",
       "2            3         1       3   \n",
       "3            4         1       1   \n",
       "4            5         0       3   \n",
       "5            6         0       3   \n",
       "6            7         0       1   \n",
       "7            8         0       3   \n",
       "8            9         1       3   \n",
       "9           10         1       2   \n",
       "\n",
       "                                                Name     Sex   Age  SibSp  \\\n",
       "0                            Braund, Mr. Owen Harris    male  22.0      1   \n",
       "1  Cumings, Mrs. John Bradley (Florence Briggs Th...  female  38.0      1   \n",
       "2                             Heikkinen, Miss. Laina  female  26.0      0   \n",
       "3       Futrelle, Mrs. Jacques Heath (Lily May Peel)  female  35.0      1   \n",
       "4                           Allen, Mr. William Henry    male  35.0      0   \n",
       "5                                   Moran, Mr. James    male   NaN      0   \n",
       "6                            McCarthy, Mr. Timothy J    male  54.0      0   \n",
       "7                     Palsson, Master. Gosta Leonard    male   2.0      3   \n",
       "8  Johnson, Mrs. Oscar W (Elisabeth Vilhelmina Berg)  female  27.0      0   \n",
       "9                Nasser, Mrs. Nicholas (Adele Achem)  female  14.0      1   \n",
       "\n",
       "   Parch            Ticket     Fare Cabin Embarked  \n",
       "0      0         A/5 21171   7.2500   NaN        S  \n",
       "1      0          PC 17599  71.2833   C85        C  \n",
       "2      0  STON/O2. 3101282   7.9250   NaN        S  \n",
       "3      0            113803  53.1000  C123        S  \n",
       "4      0            373450   8.0500   NaN        S  \n",
       "5      0            330877   8.4583   NaN        Q  \n",
       "6      0             17463  51.8625   E46        S  \n",
       "7      1            349909  21.0750   NaN        S  \n",
       "8      2            347742  11.1333   NaN        S  \n",
       "9      0            237736  30.0708   NaN        C  "
      ]
     },
     "execution_count": 26,
     "metadata": {},
     "output_type": "execute_result"
    }
   ],
   "source": [
    "#データを見る\n",
    "train.head(10)"
   ]
  },
  {
   "cell_type": "code",
   "execution_count": 20,
   "id": "a9c46da1-1999-4931-aba2-3df2d124acbc",
   "metadata": {},
   "outputs": [
    {
     "data": {
      "text/html": [
       "<div>\n",
       "<style scoped>\n",
       "    .dataframe tbody tr th:only-of-type {\n",
       "        vertical-align: middle;\n",
       "    }\n",
       "\n",
       "    .dataframe tbody tr th {\n",
       "        vertical-align: top;\n",
       "    }\n",
       "\n",
       "    .dataframe thead th {\n",
       "        text-align: right;\n",
       "    }\n",
       "</style>\n",
       "<table border=\"1\" class=\"dataframe\">\n",
       "  <thead>\n",
       "    <tr style=\"text-align: right;\">\n",
       "      <th></th>\n",
       "      <th>PassengerId</th>\n",
       "      <th>Pclass</th>\n",
       "      <th>Name</th>\n",
       "      <th>Sex</th>\n",
       "      <th>Age</th>\n",
       "      <th>SibSp</th>\n",
       "      <th>Parch</th>\n",
       "      <th>Ticket</th>\n",
       "      <th>Fare</th>\n",
       "      <th>Cabin</th>\n",
       "      <th>Embarked</th>\n",
       "    </tr>\n",
       "  </thead>\n",
       "  <tbody>\n",
       "    <tr>\n",
       "      <th>0</th>\n",
       "      <td>892</td>\n",
       "      <td>3</td>\n",
       "      <td>Kelly, Mr. James</td>\n",
       "      <td>male</td>\n",
       "      <td>34.5</td>\n",
       "      <td>0</td>\n",
       "      <td>0</td>\n",
       "      <td>330911</td>\n",
       "      <td>7.8292</td>\n",
       "      <td>NaN</td>\n",
       "      <td>Q</td>\n",
       "    </tr>\n",
       "    <tr>\n",
       "      <th>1</th>\n",
       "      <td>893</td>\n",
       "      <td>3</td>\n",
       "      <td>Wilkes, Mrs. James (Ellen Needs)</td>\n",
       "      <td>female</td>\n",
       "      <td>47.0</td>\n",
       "      <td>1</td>\n",
       "      <td>0</td>\n",
       "      <td>363272</td>\n",
       "      <td>7.0000</td>\n",
       "      <td>NaN</td>\n",
       "      <td>S</td>\n",
       "    </tr>\n",
       "    <tr>\n",
       "      <th>2</th>\n",
       "      <td>894</td>\n",
       "      <td>2</td>\n",
       "      <td>Myles, Mr. Thomas Francis</td>\n",
       "      <td>male</td>\n",
       "      <td>62.0</td>\n",
       "      <td>0</td>\n",
       "      <td>0</td>\n",
       "      <td>240276</td>\n",
       "      <td>9.6875</td>\n",
       "      <td>NaN</td>\n",
       "      <td>Q</td>\n",
       "    </tr>\n",
       "    <tr>\n",
       "      <th>3</th>\n",
       "      <td>895</td>\n",
       "      <td>3</td>\n",
       "      <td>Wirz, Mr. Albert</td>\n",
       "      <td>male</td>\n",
       "      <td>27.0</td>\n",
       "      <td>0</td>\n",
       "      <td>0</td>\n",
       "      <td>315154</td>\n",
       "      <td>8.6625</td>\n",
       "      <td>NaN</td>\n",
       "      <td>S</td>\n",
       "    </tr>\n",
       "    <tr>\n",
       "      <th>4</th>\n",
       "      <td>896</td>\n",
       "      <td>3</td>\n",
       "      <td>Hirvonen, Mrs. Alexander (Helga E Lindqvist)</td>\n",
       "      <td>female</td>\n",
       "      <td>22.0</td>\n",
       "      <td>1</td>\n",
       "      <td>1</td>\n",
       "      <td>3101298</td>\n",
       "      <td>12.2875</td>\n",
       "      <td>NaN</td>\n",
       "      <td>S</td>\n",
       "    </tr>\n",
       "    <tr>\n",
       "      <th>5</th>\n",
       "      <td>897</td>\n",
       "      <td>3</td>\n",
       "      <td>Svensson, Mr. Johan Cervin</td>\n",
       "      <td>male</td>\n",
       "      <td>14.0</td>\n",
       "      <td>0</td>\n",
       "      <td>0</td>\n",
       "      <td>7538</td>\n",
       "      <td>9.2250</td>\n",
       "      <td>NaN</td>\n",
       "      <td>S</td>\n",
       "    </tr>\n",
       "    <tr>\n",
       "      <th>6</th>\n",
       "      <td>898</td>\n",
       "      <td>3</td>\n",
       "      <td>Connolly, Miss. Kate</td>\n",
       "      <td>female</td>\n",
       "      <td>30.0</td>\n",
       "      <td>0</td>\n",
       "      <td>0</td>\n",
       "      <td>330972</td>\n",
       "      <td>7.6292</td>\n",
       "      <td>NaN</td>\n",
       "      <td>Q</td>\n",
       "    </tr>\n",
       "    <tr>\n",
       "      <th>7</th>\n",
       "      <td>899</td>\n",
       "      <td>2</td>\n",
       "      <td>Caldwell, Mr. Albert Francis</td>\n",
       "      <td>male</td>\n",
       "      <td>26.0</td>\n",
       "      <td>1</td>\n",
       "      <td>1</td>\n",
       "      <td>248738</td>\n",
       "      <td>29.0000</td>\n",
       "      <td>NaN</td>\n",
       "      <td>S</td>\n",
       "    </tr>\n",
       "    <tr>\n",
       "      <th>8</th>\n",
       "      <td>900</td>\n",
       "      <td>3</td>\n",
       "      <td>Abrahim, Mrs. Joseph (Sophie Halaut Easu)</td>\n",
       "      <td>female</td>\n",
       "      <td>18.0</td>\n",
       "      <td>0</td>\n",
       "      <td>0</td>\n",
       "      <td>2657</td>\n",
       "      <td>7.2292</td>\n",
       "      <td>NaN</td>\n",
       "      <td>C</td>\n",
       "    </tr>\n",
       "    <tr>\n",
       "      <th>9</th>\n",
       "      <td>901</td>\n",
       "      <td>3</td>\n",
       "      <td>Davies, Mr. John Samuel</td>\n",
       "      <td>male</td>\n",
       "      <td>21.0</td>\n",
       "      <td>2</td>\n",
       "      <td>0</td>\n",
       "      <td>A/4 48871</td>\n",
       "      <td>24.1500</td>\n",
       "      <td>NaN</td>\n",
       "      <td>S</td>\n",
       "    </tr>\n",
       "  </tbody>\n",
       "</table>\n",
       "</div>"
      ],
      "text/plain": [
       "   PassengerId  Pclass                                          Name     Sex  \\\n",
       "0          892       3                              Kelly, Mr. James    male   \n",
       "1          893       3              Wilkes, Mrs. James (Ellen Needs)  female   \n",
       "2          894       2                     Myles, Mr. Thomas Francis    male   \n",
       "3          895       3                              Wirz, Mr. Albert    male   \n",
       "4          896       3  Hirvonen, Mrs. Alexander (Helga E Lindqvist)  female   \n",
       "5          897       3                    Svensson, Mr. Johan Cervin    male   \n",
       "6          898       3                          Connolly, Miss. Kate  female   \n",
       "7          899       2                  Caldwell, Mr. Albert Francis    male   \n",
       "8          900       3     Abrahim, Mrs. Joseph (Sophie Halaut Easu)  female   \n",
       "9          901       3                       Davies, Mr. John Samuel    male   \n",
       "\n",
       "    Age  SibSp  Parch     Ticket     Fare Cabin Embarked  \n",
       "0  34.5      0      0     330911   7.8292   NaN        Q  \n",
       "1  47.0      1      0     363272   7.0000   NaN        S  \n",
       "2  62.0      0      0     240276   9.6875   NaN        Q  \n",
       "3  27.0      0      0     315154   8.6625   NaN        S  \n",
       "4  22.0      1      1    3101298  12.2875   NaN        S  \n",
       "5  14.0      0      0       7538   9.2250   NaN        S  \n",
       "6  30.0      0      0     330972   7.6292   NaN        Q  \n",
       "7  26.0      1      1     248738  29.0000   NaN        S  \n",
       "8  18.0      0      0       2657   7.2292   NaN        C  \n",
       "9  21.0      2      0  A/4 48871  24.1500   NaN        S  "
      ]
     },
     "execution_count": 20,
     "metadata": {},
     "output_type": "execute_result"
    }
   ],
   "source": [
    "test.head(10)"
   ]
  },
  {
   "cell_type": "code",
   "execution_count": 46,
   "id": "c4366c61-af6c-41c0-aee9-db788b6ddb6b",
   "metadata": {},
   "outputs": [
    {
     "name": "stdout",
     "output_type": "stream",
     "text": [
      "PassengerId      0\n",
      "Survived         0\n",
      "Pclass           0\n",
      "Name             0\n",
      "Sex              0\n",
      "Age            177\n",
      "SibSp            0\n",
      "Parch            0\n",
      "Ticket           0\n",
      "Fare             0\n",
      "Cabin          687\n",
      "Embarked         2\n",
      "dtype: int64\n"
     ]
    }
   ],
   "source": [
    "#欠損値の確認\n",
    "print(train.isnull().sum())"
   ]
  },
  {
   "cell_type": "code",
   "execution_count": 21,
   "id": "87384348-c243-47e9-bc23-b61913dc1dbc",
   "metadata": {},
   "outputs": [
    {
     "name": "stdout",
     "output_type": "stream",
     "text": [
      "PassengerId      0\n",
      "Pclass           0\n",
      "Name             0\n",
      "Sex              0\n",
      "Age             86\n",
      "SibSp            0\n",
      "Parch            0\n",
      "Ticket           0\n",
      "Fare             1\n",
      "Cabin          327\n",
      "Embarked         0\n",
      "dtype: int64\n"
     ]
    }
   ],
   "source": [
    "print(test.isnull().sum())"
   ]
  },
  {
   "cell_type": "markdown",
   "id": "da4b609c-3fb2-4f1a-87b0-fb2e88aade13",
   "metadata": {},
   "source": [
    "#### 1.2可視化して観察する\n",
    "次はmatplotlibやseabornを用いて、各特徴量や生死について観察する。"
   ]
  },
  {
   "cell_type": "code",
   "execution_count": 100,
   "id": "35dd4dbe-8019-4218-83fc-59a1b3559236",
   "metadata": {},
   "outputs": [
    {
     "data": {
      "text/plain": [
       "Text(0.5, 1.0, 'Age and Survived')"
      ]
     },
     "execution_count": 100,
     "metadata": {},
     "output_type": "execute_result"
    },
    {
     "data": {
      "image/png": "[encoded data removed]",
      "text/plain": [
       "<Figure size 640x480 with 1 Axes>"
      ]
     },
     "metadata": {},
     "output_type": "display_data"
    }
   ],
   "source": [
    "#Ageについて調べる\n",
    "\n",
    "train['Age'].hist(bins = 20, alpha = 0.3, color = 'green')\n",
    "train[train['Survived'] == 1]['Age'].hist(bins = 20, alpha = 0.3)\n",
    "train[train['Survived'] == 0]['Age'].hist(bins = 20, alpha = 0.3, color = 'red')\n",
    "\n",
    "plt.title('Age and Survived')"
   ]
  },
  {
   "cell_type": "markdown",
   "id": "7e0ba2d3-04cc-4e0f-963f-fb7a9d07c028",
   "metadata": {},
   "source": [
    "年齢と生死についてのヒストグラムを作成した。（緑は乗客全体、赤は死亡者、青は生存者）\n",
    "\n",
    "このヒストグラムより、各年代ごとの生存率は、20代よりも幼い人々が高いように思える。"
   ]
  },
  {
   "cell_type": "code",
   "execution_count": 101,
   "id": "1cbcdd14-e9ca-4376-9994-3b656b17348f",
   "metadata": {},
   "outputs": [
    {
     "data": {
      "text/plain": [
       "Text(0.5, 1.0, 'Sex and Survived')"
      ]
     },
     "execution_count": 101,
     "metadata": {},
     "output_type": "execute_result"
    },
    {
     "data": {
      "image/png": "[encoded data removed]",
      "text/plain": [
       "<Figure size 640x480 with 1 Axes>"
      ]
     },
     "metadata": {},
     "output_type": "display_data"
    }
   ],
   "source": [
    "#Sexについて調べる\n",
    "\n",
    "train['Sex'].value_counts().plot.bar(alpha = 0.3, color = 'green')\n",
    "train[train['Survived'] == 1]['Sex'].value_counts().plot.bar(alpha = 0.3)\n",
    "train[train['Survived'] == 0]['Sex'].value_counts().plot.bar(alpha = 0.3, color = 'red')\n",
    "\n",
    "plt.title('Sex and Survived')"
   ]
  },
  {
   "cell_type": "markdown",
   "id": "5c22d9e9-e592-4505-b399-fe3da237cfc3",
   "metadata": {},
   "source": [
    "性別においては、女性の生存数と生存率が高いことが明らかである。"
   ]
  },
  {
   "cell_type": "code",
   "execution_count": 98,
   "id": "ee48c6ba-6b51-4f8c-a74d-a9ec26a06342",
   "metadata": {},
   "outputs": [
    {
     "data": {
      "image/png": "[encoded data removed]",
      "text/plain": [
       "<Figure size 1200x400 with 2 Axes>"
      ]
     },
     "metadata": {},
     "output_type": "display_data"
    }
   ],
   "source": [
    "#Pclassと生死の関係\n",
    "\n",
    "plt.figure(figsize=(12,4))\n",
    "\n",
    "plt.subplot(1, 2, 1)\n",
    "train['Pclass'].value_counts().plot.bar(alpha = 0.3, color = 'green')\n",
    "train[train['Survived'] == 1]['Pclass'].value_counts().plot.bar(alpha = 0.3)\n",
    "train[train['Survived'] == 0]['Pclass'].value_counts().plot.bar(alpha = 0.3, color = 'red')\n",
    "plt.title('Pclass and Survived')\n",
    "\n",
    "#PclassとFareの関係\n",
    "plt.subplot(1, 2, 2)\n",
    "box_plot = sns.boxplot(x = 'Pclass', y = 'Fare', data = train, showfliers = False, color = 'lightblue')\n",
    "#showfliers=Falseにて外れ値を除外\n",
    "\n",
    "for median in box_plot.artists:\n",
    "    medianline = median.get_lines()[4]\n",
    "    medianline.set_color('red')\n",
    "    medianline.set_linewidth(4)\n",
    "\n",
    "plt.title('Pclass and Fare')\n",
    "plt.show()"
   ]
  },
  {
   "cell_type": "markdown",
   "id": "7b9172d6-36b7-4a9c-b6c4-2953bafd17bf",
   "metadata": {},
   "source": [
    "Pclassについては、Pclassの1と2については生存者と死亡者の間に大きな差はみられない。しかし、Pclassの3については死亡者が圧倒的に多いことがわかる。またPclassの2,3は50以下の低い料金で乗船した人が多いことがわかる。"
   ]
  },
  {
   "cell_type": "code",
   "execution_count": 103,
   "id": "0b21d404-0f09-4ac3-b7bc-ae8ae31c5c82",
   "metadata": {},
   "outputs": [
    {
     "data": {
      "text/plain": [
       "Text(0.5, 1.0, 'Parch and Survived')"
      ]
     },
     "execution_count": 103,
     "metadata": {},
     "output_type": "execute_result"
    },
    {
     "data": {
      "image/png": "[encoded data removed]",
      "text/plain": [
       "<Figure size 1200x400 with 2 Axes>"
      ]
     },
     "metadata": {},
     "output_type": "display_data"
    }
   ],
   "source": [
    "#SibSp(乗船者の配偶者)とParch(乗船者の子供)について調べる\n",
    "\n",
    "plt.figure(figsize=(12,4))\n",
    "\n",
    "plt.subplot(1, 2, 1)\n",
    "train['SibSp'].value_counts().plot.bar(alpha = 0.3, color = 'green')\n",
    "train[train['Survived'] == 1]['SibSp'].value_counts().plot.bar(alpha = 0.3)\n",
    "train[train['Survived'] == 0]['SibSp'].value_counts().plot.bar(alpha = 0.3, color = 'red')\n",
    "plt.title('SibSp and Survived')\n",
    "\n",
    "plt.subplot(1, 2, 2)\n",
    "train['Parch'].value_counts().plot.bar(alpha = 0.3, color = 'green')\n",
    "train[train['Survived'] == 1]['Parch'].value_counts().plot.bar(alpha = 0.3)\n",
    "train[train['Survived'] == 0]['Parch'].value_counts().plot.bar(alpha = 0.3, color = 'red')\n",
    "plt.title('Parch and Survived')"
   ]
  },
  {
   "cell_type": "markdown",
   "id": "cc26c03b-e2fb-4c18-b064-16e2e3581f4e",
   "metadata": {},
   "source": [
    "SibSpとParchに関しては、どちらも配偶者と子供がいない人が多く、死亡者も多いということが分かった。"
   ]
  },
  {
   "cell_type": "code",
   "execution_count": 105,
   "id": "24e7b6d9-1c09-4567-8fb7-b0fc02b13fd4",
   "metadata": {},
   "outputs": [
    {
     "data": {
      "text/plain": [
       "Text(0.5, 1.0, 'Fare and Survived')"
      ]
     },
     "execution_count": 105,
     "metadata": {},
     "output_type": "execute_result"
    },
    {
     "data": {
      "image/png": "[encoded data removed]",
      "text/plain": [
       "<Figure size 1200x400 with 2 Axes>"
      ]
     },
     "metadata": {},
     "output_type": "display_data"
    }
   ],
   "source": [
    "#Fareについて調べる\n",
    "\n",
    "plt.figure(figsize=(12,4))\n",
    "\n",
    "plt.subplot(1, 2, 1)\n",
    "ax = train['Fare'].hist(bins = 25, alpha = 0.3, color = 'green')\n",
    "ax.set_title('all passengers and Fare')\n",
    "\n",
    "plt.subplot(1, 2, 2)\n",
    "train[train['Survived'] == 1]['Fare'].hist(bins = 25, alpha = 0.3)\n",
    "train[train['Survived'] == 0]['Fare'].hist(bins = 25, alpha = 0.3, color = 'red')\n",
    "plt.title('Fare and Survived')"
   ]
  },
  {
   "cell_type": "markdown",
   "id": "560987a6-3eec-4810-af4d-dd6b03b985b7",
   "metadata": {},
   "source": [
    "Fareに関しては、安い料金で乗船した人が圧倒的に多いが、そのうちの多くの人が亡くなっている。逆に、高い料金を払っている人のほうが生存している。"
   ]
  },
  {
   "cell_type": "code",
   "execution_count": 77,
   "id": "1d52c197-be66-40ac-bce9-5c3814715404",
   "metadata": {},
   "outputs": [
    {
     "data": {
      "text/plain": [
       "Cabin\n",
       "B96 B98        4\n",
       "G6             4\n",
       "C23 C25 C27    4\n",
       "F2             3\n",
       "C22 C26        3\n",
       "              ..\n",
       "C106           1\n",
       "A19            1\n",
       "D7             1\n",
       "C118           1\n",
       "E50            1\n",
       "Name: count, Length: 147, dtype: int64"
      ]
     },
     "execution_count": 77,
     "metadata": {},
     "output_type": "execute_result"
    }
   ],
   "source": [
    "#Cabinについて\n",
    "train['Cabin'].value_counts()"
   ]
  },
  {
   "cell_type": "code",
   "execution_count": 75,
   "id": "af8d5906-76cd-4525-acde-e24b2cd23ba7",
   "metadata": {},
   "outputs": [
    {
     "data": {
      "text/plain": [
       "Cabin\n",
       "B96 B98    4\n",
       "E101       3\n",
       "F33        3\n",
       "D          2\n",
       "D36        2\n",
       "          ..\n",
       "C7         1\n",
       "C54        1\n",
       "E36        1\n",
       "C65        1\n",
       "C103       1\n",
       "Name: count, Length: 101, dtype: int64"
      ]
     },
     "execution_count": 75,
     "metadata": {},
     "output_type": "execute_result"
    }
   ],
   "source": [
    "train[train['Survived'] == 1]['Cabin'].value_counts()"
   ]
  },
  {
   "cell_type": "code",
   "execution_count": 76,
   "id": "0d52b6c2-4d15-43a8-af4a-c4c174af8d85",
   "metadata": {},
   "outputs": [
    {
     "data": {
      "text/plain": [
       "Cabin\n",
       "C23 C25 C27    2\n",
       "F G73          2\n",
       "D26            2\n",
       "C124           2\n",
       "C22 C26        2\n",
       "              ..\n",
       "B82 B84        1\n",
       "A36            1\n",
       "B102           1\n",
       "A24            1\n",
       "B51 B53 B55    1\n",
       "Name: count, Length: 62, dtype: int64"
      ]
     },
     "execution_count": 76,
     "metadata": {},
     "output_type": "execute_result"
    }
   ],
   "source": [
    "train[train['Survived'] == 0]['Cabin'].value_counts()"
   ]
  },
  {
   "cell_type": "markdown",
   "id": "476a5e08-6384-4998-953a-add2e02b1e02",
   "metadata": {},
   "source": [
    "Cabinについては、欠損値が半分以上を占め、グラフとして可視化するのには不適である。さらに値も予測には向かないため、データフレームの成型時に排除する。"
   ]
  },
  {
   "cell_type": "code",
   "execution_count": 106,
   "id": "795b36f3-aed2-426f-8167-ba6c759177a1",
   "metadata": {},
   "outputs": [
    {
     "data": {
      "image/png": "[encoded data removed]",
      "text/plain": [
       "<Figure size 1200x400 with 2 Axes>"
      ]
     },
     "metadata": {},
     "output_type": "display_data"
    }
   ],
   "source": [
    "#Embarked(乗船港)について調べる\n",
    "\n",
    "plt.figure(figsize=(12,4))\n",
    "\n",
    "plt.subplot(1, 2, 1)\n",
    "train['Embarked'].value_counts().plot.bar(alpha = 0.3, color = 'green')\n",
    "train[train['Survived'] == 1]['Embarked'].value_counts().plot.bar(alpha = 0.3)\n",
    "train[train['Survived'] == 0]['Embarked'].value_counts().plot.bar(alpha = 0.3, color = 'red')\n",
    "plt.title('Embarked and Survived')\n",
    "\n",
    "plt.subplot(1, 2, 2)\n",
    "box_plot = sns.boxplot(x = 'Embarked', y = 'Fare', data = train, showfliers = False, color = 'lightblue')\n",
    "#showfliers=Falseにて外れ値を除外\n",
    "\n",
    "for median in box_plot.artists:\n",
    "    medianline = median.get_lines()[4]\n",
    "    medianline.set_color('red')\n",
    "    medianline.set_linewidth(4)\n",
    "\n",
    "plt.title('Embarked and Fare')\n",
    "plt.show()"
   ]
  },
  {
   "cell_type": "markdown",
   "id": "08a9a265-18c4-4f3b-8f18-13e206691adf",
   "metadata": {},
   "source": [
    "Embarkedについては、Sから乗船した人が一番多い。S,Qともに死亡者は半分以上を占めており、中央値や四分位範囲を参考にすると、乗船時の料金はCと比較すると低い人が多い。"
   ]
  },
  {
   "cell_type": "markdown",
   "id": "32a13b4e-bd1a-4156-bbfc-0e5ae01b2d33",
   "metadata": {},
   "source": [
    "### 2.データを加工\n",
    "\n",
    "先ほどの可視化した結果より、有用に思える変数はSurvived,Pclass,Sex,Age,SibSp,Parch,Fare,Embarkedの7つと判断した。ゆえに、次は可視化した結果などから必要な特徴量を抽出・欠損値の排除・ラベルエンコーディングを行う。"
   ]
  },
  {
   "cell_type": "code",
   "execution_count": 233,
   "id": "beb8c294-7d91-4842-8cc1-a170deaced99",
   "metadata": {
    "scrolled": true
   },
   "outputs": [],
   "source": [
    "#必要なデータを抽出\n",
    "en_train = train.drop(columns = ['PassengerId', 'Name', 'Ticket', 'Cabin'])\n",
    "en_test = test.drop(columns = ['PassengerId', 'Name', 'Ticket', 'Cabin'])\n",
    "\n",
    "#Sexの欠損値を平均値で補完\n",
    "age = pd.concat([en_train['Age'], en_test['Age']])\n",
    "en_train['Age'].fillna(age.mean(), inplace = True)\n",
    "en_test['Age'].fillna(age.mean(), inplace = True)\n",
    "\n",
    "#Fareの欠損値を平均値で補完\n",
    "fare = pd.concat([en_train['Fare'], en_test['Fare']])\n",
    "en_train['Fare'].fillna(fare.mean(), inplace = True)\n",
    "en_test['Fare'].fillna(fare.mean(), inplace = True)\n",
    "\n",
    "#Embarkedの欠損値を、最も多かったSで補完\n",
    "en_train['Embarked'].fillna('S', inplace = True)\n",
    "en_test['Embarked'].fillna('S', inplace = True)\n",
    "\n",
    "#カテゴリカルデータの変換\n",
    "en_train.replace({'Sex': {'male': 0, 'female': 1}}, inplace = True)\n",
    "en_test.replace({'Sex': {'male': 0, 'female': 1}}, inplace = True)\n",
    "\n",
    "embarked = pd.concat([en_train['Embarked'], en_test['Embarked']])\n",
    "\n",
    "embarked_ohe = pd.get_dummies(embarked, dtype = int)\n",
    "embarked_ohe_train = embarked_ohe[:891]\n",
    "embarked_ohe_test = embarked_ohe[891:]\n",
    "\n",
    "en_train = pd.concat([en_train, embarked_ohe_train], axis=1)\n",
    "en_test = pd.concat([en_test, embarked_ohe_test], axis=1)\n",
    "\n",
    "en_train.drop('Embarked', axis=1, inplace=True)\n",
    "en_test.drop('Embarked', axis=1, inplace=True)"
   ]
  },
  {
   "cell_type": "code",
   "execution_count": 65,
   "id": "0b1b2adf-57bb-4dc1-93a4-acbb1d20beb7",
   "metadata": {},
   "outputs": [
    {
     "data": {
      "text/html": [
       "<div>\n",
       "<style scoped>\n",
       "    .dataframe tbody tr th:only-of-type {\n",
       "        vertical-align: middle;\n",
       "    }\n",
       "\n",
       "    .dataframe tbody tr th {\n",
       "        vertical-align: top;\n",
       "    }\n",
       "\n",
       "    .dataframe thead th {\n",
       "        text-align: right;\n",
       "    }\n",
       "</style>\n",
       "<table border=\"1\" class=\"dataframe\">\n",
       "  <thead>\n",
       "    <tr style=\"text-align: right;\">\n",
       "      <th></th>\n",
       "      <th>Survived</th>\n",
       "      <th>Pclass</th>\n",
       "      <th>Sex</th>\n",
       "      <th>Age</th>\n",
       "      <th>SibSp</th>\n",
       "      <th>Parch</th>\n",
       "      <th>Fare</th>\n",
       "      <th>C</th>\n",
       "      <th>Q</th>\n",
       "      <th>S</th>\n",
       "    </tr>\n",
       "  </thead>\n",
       "  <tbody>\n",
       "    <tr>\n",
       "      <th>0</th>\n",
       "      <td>0</td>\n",
       "      <td>3</td>\n",
       "      <td>0</td>\n",
       "      <td>22.0</td>\n",
       "      <td>1</td>\n",
       "      <td>0</td>\n",
       "      <td>7.2500</td>\n",
       "      <td>0</td>\n",
       "      <td>0</td>\n",
       "      <td>1</td>\n",
       "    </tr>\n",
       "    <tr>\n",
       "      <th>1</th>\n",
       "      <td>1</td>\n",
       "      <td>1</td>\n",
       "      <td>1</td>\n",
       "      <td>38.0</td>\n",
       "      <td>1</td>\n",
       "      <td>0</td>\n",
       "      <td>71.2833</td>\n",
       "      <td>1</td>\n",
       "      <td>0</td>\n",
       "      <td>0</td>\n",
       "    </tr>\n",
       "    <tr>\n",
       "      <th>2</th>\n",
       "      <td>1</td>\n",
       "      <td>3</td>\n",
       "      <td>1</td>\n",
       "      <td>26.0</td>\n",
       "      <td>0</td>\n",
       "      <td>0</td>\n",
       "      <td>7.9250</td>\n",
       "      <td>0</td>\n",
       "      <td>0</td>\n",
       "      <td>1</td>\n",
       "    </tr>\n",
       "    <tr>\n",
       "      <th>3</th>\n",
       "      <td>1</td>\n",
       "      <td>1</td>\n",
       "      <td>1</td>\n",
       "      <td>35.0</td>\n",
       "      <td>1</td>\n",
       "      <td>0</td>\n",
       "      <td>53.1000</td>\n",
       "      <td>0</td>\n",
       "      <td>0</td>\n",
       "      <td>1</td>\n",
       "    </tr>\n",
       "    <tr>\n",
       "      <th>4</th>\n",
       "      <td>0</td>\n",
       "      <td>3</td>\n",
       "      <td>0</td>\n",
       "      <td>35.0</td>\n",
       "      <td>0</td>\n",
       "      <td>0</td>\n",
       "      <td>8.0500</td>\n",
       "      <td>0</td>\n",
       "      <td>0</td>\n",
       "      <td>1</td>\n",
       "    </tr>\n",
       "  </tbody>\n",
       "</table>\n",
       "</div>"
      ],
      "text/plain": [
       "   Survived  Pclass  Sex   Age  SibSp  Parch     Fare  C  Q  S\n",
       "0         0       3    0  22.0      1      0   7.2500  0  0  1\n",
       "1         1       1    1  38.0      1      0  71.2833  1  0  0\n",
       "2         1       3    1  26.0      0      0   7.9250  0  0  1\n",
       "3         1       1    1  35.0      1      0  53.1000  0  0  1\n",
       "4         0       3    0  35.0      0      0   8.0500  0  0  1"
      ]
     },
     "execution_count": 65,
     "metadata": {},
     "output_type": "execute_result"
    }
   ],
   "source": [
    "#trainデータの加工の結果\n",
    "en_train.head()"
   ]
  },
  {
   "cell_type": "code",
   "execution_count": 66,
   "id": "7c47e13e-4405-43bb-a249-74b5c0dd7778",
   "metadata": {},
   "outputs": [
    {
     "data": {
      "text/html": [
       "<div>\n",
       "<style scoped>\n",
       "    .dataframe tbody tr th:only-of-type {\n",
       "        vertical-align: middle;\n",
       "    }\n",
       "\n",
       "    .dataframe tbody tr th {\n",
       "        vertical-align: top;\n",
       "    }\n",
       "\n",
       "    .dataframe thead th {\n",
       "        text-align: right;\n",
       "    }\n",
       "</style>\n",
       "<table border=\"1\" class=\"dataframe\">\n",
       "  <thead>\n",
       "    <tr style=\"text-align: right;\">\n",
       "      <th></th>\n",
       "      <th>Pclass</th>\n",
       "      <th>Sex</th>\n",
       "      <th>Age</th>\n",
       "      <th>SibSp</th>\n",
       "      <th>Parch</th>\n",
       "      <th>Fare</th>\n",
       "      <th>C</th>\n",
       "      <th>Q</th>\n",
       "      <th>S</th>\n",
       "    </tr>\n",
       "  </thead>\n",
       "  <tbody>\n",
       "    <tr>\n",
       "      <th>0</th>\n",
       "      <td>3</td>\n",
       "      <td>0</td>\n",
       "      <td>34.5</td>\n",
       "      <td>0</td>\n",
       "      <td>0</td>\n",
       "      <td>7.8292</td>\n",
       "      <td>0</td>\n",
       "      <td>1</td>\n",
       "      <td>0</td>\n",
       "    </tr>\n",
       "    <tr>\n",
       "      <th>1</th>\n",
       "      <td>3</td>\n",
       "      <td>1</td>\n",
       "      <td>47.0</td>\n",
       "      <td>1</td>\n",
       "      <td>0</td>\n",
       "      <td>7.0000</td>\n",
       "      <td>0</td>\n",
       "      <td>0</td>\n",
       "      <td>1</td>\n",
       "    </tr>\n",
       "    <tr>\n",
       "      <th>2</th>\n",
       "      <td>2</td>\n",
       "      <td>0</td>\n",
       "      <td>62.0</td>\n",
       "      <td>0</td>\n",
       "      <td>0</td>\n",
       "      <td>9.6875</td>\n",
       "      <td>0</td>\n",
       "      <td>1</td>\n",
       "      <td>0</td>\n",
       "    </tr>\n",
       "    <tr>\n",
       "      <th>3</th>\n",
       "      <td>3</td>\n",
       "      <td>0</td>\n",
       "      <td>27.0</td>\n",
       "      <td>0</td>\n",
       "      <td>0</td>\n",
       "      <td>8.6625</td>\n",
       "      <td>0</td>\n",
       "      <td>0</td>\n",
       "      <td>1</td>\n",
       "    </tr>\n",
       "    <tr>\n",
       "      <th>4</th>\n",
       "      <td>3</td>\n",
       "      <td>1</td>\n",
       "      <td>22.0</td>\n",
       "      <td>1</td>\n",
       "      <td>1</td>\n",
       "      <td>12.2875</td>\n",
       "      <td>0</td>\n",
       "      <td>0</td>\n",
       "      <td>1</td>\n",
       "    </tr>\n",
       "  </tbody>\n",
       "</table>\n",
       "</div>"
      ],
      "text/plain": [
       "   Pclass  Sex   Age  SibSp  Parch     Fare  C  Q  S\n",
       "0       3    0  34.5      0      0   7.8292  0  1  0\n",
       "1       3    1  47.0      1      0   7.0000  0  0  1\n",
       "2       2    0  62.0      0      0   9.6875  0  1  0\n",
       "3       3    0  27.0      0      0   8.6625  0  0  1\n",
       "4       3    1  22.0      1      1  12.2875  0  0  1"
      ]
     },
     "execution_count": 66,
     "metadata": {},
     "output_type": "execute_result"
    }
   ],
   "source": [
    "#testデータの加工の結果\n",
    "en_test.head()"
   ]
  },
  {
   "cell_type": "code",
   "execution_count": 138,
   "id": "aeab10a7-8569-48c7-a9d2-fe044dcb7739",
   "metadata": {},
   "outputs": [
    {
     "data": {
      "image/png": "[encoded data removed]",
      "text/plain": [
       "<Figure size 1000x800 with 2 Axes>"
      ]
     },
     "metadata": {},
     "output_type": "display_data"
    }
   ],
   "source": [
    "#全説明変数間の相関関係を調べる\n",
    "\n",
    "fig, axs = plt.subplots(figsize = (10, 8))\n",
    "sns.heatmap(en_train.corr(),annot = True)\n",
    "plt.show()"
   ]
  },
  {
   "cell_type": "markdown",
   "id": "9f09a02e-536b-4b9b-83a3-12dbc2f5b6f7",
   "metadata": {},
   "source": [
    "この図からわかる主な相関関係は以下の通りとなる。\n",
    "\n",
    "やや正の相関がある\n",
    "\n",
    "Sex-Suvived,Parch-Sex,Parch-SibSp,Fare-Survived,Fare-Parch\n",
    "\n",
    "やや負の相関がある\n",
    "\n",
    "Pclass-Survived,Age-Pclass,SibSp-Age,Fare-Pclass\n",
    "\n",
    "上記の相関関係には約0.2~0.5の幅があるが、学習における説明変数の候補として使えそうである。"
   ]
  },
  {
   "cell_type": "code",
   "execution_count": 237,
   "id": "aaf521e0-797a-4638-90ff-7ad54f49f42e",
   "metadata": {},
   "outputs": [
    {
     "name": "stdout",
     "output_type": "stream",
     "text": [
      "PassengerId      0\n",
      "Survived         0\n",
      "Pclass           0\n",
      "Name             0\n",
      "Sex              0\n",
      "Age            177\n",
      "SibSp            0\n",
      "Parch            0\n",
      "Ticket           0\n",
      "Fare             0\n",
      "Cabin          687\n",
      "Embarked         2\n",
      "dtype: int64\n",
      "<class 'pandas.core.frame.DataFrame'>\n",
      "RangeIndex: 891 entries, 0 to 890\n",
      "Data columns (total 12 columns):\n",
      " #   Column       Non-Null Count  Dtype  \n",
      "---  ------       --------------  -----  \n",
      " 0   PassengerId  891 non-null    int64  \n",
      " 1   Survived     891 non-null    int64  \n",
      " 2   Pclass       891 non-null    int64  \n",
      " 3   Name         891 non-null    object \n",
      " 4   Sex          891 non-null    object \n",
      " 5   Age          714 non-null    float64\n",
      " 6   SibSp        891 non-null    int64  \n",
      " 7   Parch        891 non-null    int64  \n",
      " 8   Ticket       891 non-null    object \n",
      " 9   Fare         891 non-null    float64\n",
      " 10  Cabin        204 non-null    object \n",
      " 11  Embarked     889 non-null    object \n",
      "dtypes: float64(2), int64(5), object(5)\n",
      "memory usage: 83.7+ KB\n"
     ]
    }
   ],
   "source": [
    "#加工後のデータを確認\n",
    "print(train.isnull().sum())\n",
    "\n",
    "train.info()"
   ]
  },
  {
   "cell_type": "code",
   "execution_count": 235,
   "id": "f4ca7565-fbbc-4b0e-a5e3-d5292dfdb2f8",
   "metadata": {},
   "outputs": [
    {
     "name": "stdout",
     "output_type": "stream",
     "text": [
      "PassengerId      0\n",
      "Pclass           0\n",
      "Name             0\n",
      "Sex              0\n",
      "Age             86\n",
      "SibSp            0\n",
      "Parch            0\n",
      "Ticket           0\n",
      "Fare             1\n",
      "Cabin          327\n",
      "Embarked         0\n",
      "dtype: int64\n",
      "<class 'pandas.core.frame.DataFrame'>\n",
      "RangeIndex: 418 entries, 0 to 417\n",
      "Data columns (total 11 columns):\n",
      " #   Column       Non-Null Count  Dtype  \n",
      "---  ------       --------------  -----  \n",
      " 0   PassengerId  418 non-null    int64  \n",
      " 1   Pclass       418 non-null    int64  \n",
      " 2   Name         418 non-null    object \n",
      " 3   Sex          418 non-null    object \n",
      " 4   Age          332 non-null    float64\n",
      " 5   SibSp        418 non-null    int64  \n",
      " 6   Parch        418 non-null    int64  \n",
      " 7   Ticket       418 non-null    object \n",
      " 8   Fare         417 non-null    float64\n",
      " 9   Cabin        91 non-null     object \n",
      " 10  Embarked     418 non-null    object \n",
      "dtypes: float64(2), int64(4), object(5)\n",
      "memory usage: 36.0+ KB\n"
     ]
    }
   ],
   "source": [
    "print(test.isnull().sum())\n",
    "\n",
    "test.info()"
   ]
  },
  {
   "cell_type": "markdown",
   "id": "2b1c3c95-f898-4c6e-bade-fbd39d444fe0",
   "metadata": {},
   "source": [
    "### 3.モデルの作成と予測\n",
    "\n",
    "データから欠損値や不要な説明変数を削除したため、次はモデルを作成し、予測精度を比較していく。今回はtitanic号の乗客の生死についての予測なのでニクラス分類である。"
   ]
  },
  {
   "cell_type": "markdown",
   "id": "5a5bcc33-c181-4ef4-9337-4cee79851cf6",
   "metadata": {},
   "source": [
    "#### 3.1ランダムフォレストによる予測\n",
    "まずは、ランダムフォレストを用いて、予測をしていく。"
   ]
  },
  {
   "cell_type": "code",
   "execution_count": 70,
   "id": "b0b88f98-2460-42d1-99c1-1f8735b825c8",
   "metadata": {},
   "outputs": [],
   "source": [
    "#使いたい学習モデルをインポート\n",
    "import xgboost as xgb\n",
    "from sklearn.model_selection import train_test_split, GridSearchCV\n",
    "from sklearn.ensemble import RandomForestClassifier\n",
    "from sklearn.linear_model import LogisticRegression\n",
    "from sklearn.neural_network import MLPClassifier\n",
    "from sklearn.metrics import accuracy_score"
   ]
  },
  {
   "cell_type": "code",
   "execution_count": 264,
   "id": "27a5e85d-82b2-461f-90d1-e336a68209aa",
   "metadata": {},
   "outputs": [],
   "source": [
    "#データを説明変数と目的変数に分ける\n",
    "X = en_train.iloc[:, 2:].values\n",
    "y = en_train.iloc[:, 1].values\n",
    "\n",
    "X_test = en_test.iloc[:, 1:].values"
   ]
  },
  {
   "cell_type": "code",
   "execution_count": 265,
   "id": "c0466ac3-d371-410b-a4ae-71529a90ccf7",
   "metadata": {},
   "outputs": [],
   "source": [
    "#ホールドアウト法によってデータの分割\n",
    "X_train, X_valid, y_train, y_valid = train_test_split(X, y, test_size = 0.3, random_state = 42)"
   ]
  },
  {
   "cell_type": "markdown",
   "id": "b27428ac-ae79-4535-9a46-8391276a417d",
   "metadata": {},
   "source": [
    "これで学習のためのデータができたので、以下ではクロスバリデーションを用いて学習する。"
   ]
  },
  {
   "cell_type": "code",
   "execution_count": 240,
   "id": "1561ec21-8eca-4fac-9e14-ca7092260b75",
   "metadata": {},
   "outputs": [
    {
     "name": "stdout",
     "output_type": "stream",
     "text": [
      "Best Parameters: {'max_depth': 5, 'min_samples_leaf': 5}\n",
      "CV Score: 0.891\n"
     ]
    }
   ],
   "source": [
    "#クロスバリデーション1回目\n",
    "param_grid = {'max_depth': [3, 4, 5], 'min_samples_leaf': [3, 4, 5]}\n",
    "\n",
    "rfc_gs = GridSearchCV(RandomForestClassifier(n_estimators = 100, n_jobs = -1, random_state = 37), param_grid, cv = 9)\n",
    "rfc_gs.fit(X, y)\n",
    "\n",
    "print('Best Parameters: {}'.format(rfc_gs.best_params_))\n",
    "print('CV Score: {}'.format(round(rfc_gs.best_score_, 3)))"
   ]
  },
  {
   "cell_type": "code",
   "execution_count": 241,
   "id": "da73ec57-2a82-4228-88e4-de70d2d84faa",
   "metadata": {},
   "outputs": [
    {
     "name": "stdout",
     "output_type": "stream",
     "text": [
      "Best Parameters: {'max_depth': 7, 'min_samples_leaf': 3}\n",
      "CV Score: 0.895\n"
     ]
    }
   ],
   "source": [
    "#クロスバリデーション2回目\n",
    "param_grid = {'max_depth': [3, 5, 7], 'min_samples_leaf': [3, 4, 5]}\n",
    "\n",
    "rfc_gs = GridSearchCV(RandomForestClassifier(n_estimators = 100, n_jobs = -1, random_state = 37), param_grid, cv = 9)\n",
    "rfc_gs.fit(X, y)\n",
    "\n",
    "print('Best Parameters: {}'.format(rfc_gs.best_params_))\n",
    "print('CV Score: {}'.format(round(rfc_gs.best_score_, 3)))"
   ]
  },
  {
   "cell_type": "code",
   "execution_count": 242,
   "id": "c72e5c8a-9992-4052-bfdc-13bdfb58071d",
   "metadata": {},
   "outputs": [
    {
     "name": "stdout",
     "output_type": "stream",
     "text": [
      "Best Parameters: {'max_depth': 8, 'min_samples_leaf': 3}\n",
      "CV Score: 0.9\n"
     ]
    }
   ],
   "source": [
    "#クロスバリデーション3回目\n",
    "param_grid = {'max_depth': [6, 7, 8], 'min_samples_leaf': [3, 4, 5]}\n",
    "\n",
    "rfc_gs = GridSearchCV(RandomForestClassifier(n_estimators = 100, n_jobs = -1, random_state = 37), param_grid, cv = 9)\n",
    "rfc_gs.fit(X, y)\n",
    "\n",
    "print('Best Parameters: {}'.format(rfc_gs.best_params_))\n",
    "print('CV Score: {}'.format(round(rfc_gs.best_score_, 3)))"
   ]
  },
  {
   "cell_type": "code",
   "execution_count": 243,
   "id": "ae4d3629-4562-4c6c-a37f-def0ffba9e3a",
   "metadata": {},
   "outputs": [
    {
     "name": "stdout",
     "output_type": "stream",
     "text": [
      "Best Parameters: {'max_depth': 8, 'min_samples_leaf': 2}\n",
      "CV Score: 0.901\n"
     ]
    }
   ],
   "source": [
    "#クロスバリデーション4回目\n",
    "param_grid = {'max_depth': [6, 7, 8], 'min_samples_leaf': [2, 3, 4]}\n",
    "\n",
    "rfc_gs = GridSearchCV(RandomForestClassifier(n_estimators = 100, n_jobs = -1, random_state = 37), param_grid, cv = 9)\n",
    "rfc_gs.fit(X, y)\n",
    "\n",
    "print('Best Parameters: {}'.format(rfc_gs.best_params_))\n",
    "print('CV Score: {}'.format(round(rfc_gs.best_score_, 3)))"
   ]
  },
  {
   "cell_type": "code",
   "execution_count": 244,
   "id": "605aaca4-9e5b-4721-b9ab-eacabf2f2d55",
   "metadata": {},
   "outputs": [
    {
     "name": "stdout",
     "output_type": "stream",
     "text": [
      "Best Parameters: {'max_depth': 8, 'min_samples_leaf': 1}\n",
      "CV Score: 0.916\n"
     ]
    }
   ],
   "source": [
    "#クロスバリデーション5回目\n",
    "param_grid = {'max_depth': [7, 8, 9], 'min_samples_leaf': [1, 2, 3]}\n",
    "\n",
    "rfc_gs = GridSearchCV(RandomForestClassifier(n_estimators = 100, n_jobs = -1, random_state = 37), param_grid, cv = 9)\n",
    "rfc_gs.fit(X, y)\n",
    "\n",
    "print('Best Parameters: {}'.format(rfc_gs.best_params_))\n",
    "print('CV Score: {}'.format(round(rfc_gs.best_score_, 3)))"
   ]
  },
  {
   "cell_type": "markdown",
   "id": "a6876e0c-10f2-4383-b2f0-c2526c202365",
   "metadata": {},
   "source": [
    "ランダムフォレストにおけるクロスバリデーションの結果は、max_depth(決定木の深さの最大値)が8, min_samples_leaf(葉が含むサンプル数の最小値)が1という結果になった。"
   ]
  },
  {
   "cell_type": "markdown",
   "id": "c704d815-fee0-4af2-ade0-00c16fdfef9c",
   "metadata": {},
   "source": [
    "#### 3.2その他のモデルでの予測\n",
    "次はランダムフォレスト以外のモデルにて学習・予測する。"
   ]
  },
  {
   "cell_type": "code",
   "execution_count": 266,
   "id": "c519735d-225b-46ef-8350-db94e5323585",
   "metadata": {},
   "outputs": [
    {
     "name": "stdout",
     "output_type": "stream",
     "text": [
      "Score： 0.9403\n"
     ]
    }
   ],
   "source": [
    "#XGBoostのためにデータを修正(Pclassが1から始まるラベルのためエラーが起きる)\n",
    "y_train_new = y_train - 1\n",
    "y_valid_new = y_valid - 1\n",
    "\n",
    "#XGBoost\n",
    "train_d = xgb.DMatrix(X_train, label = y_train_new)\n",
    "test_d = xgb.DMatrix(X_valid, label = y_valid_new)\n",
    "\n",
    "#一意のラベルの数を確認\n",
    "unique_labels_train = np.unique(y_train)\n",
    "unique_labels_valid = np.unique(y_valid)\n",
    "\n",
    "#print(\"Unique labels in training data: \", unique_labels_train) out [1 2 3]\n",
    "#print(\"Unique labels in validation data: \", unique_labels_valid) out [1 2 3]\n",
    "\n",
    "#パラメータの設定\n",
    "num_class_value = len(unique_labels_train)\n",
    "para = {'eta': 0.3, 'max_depth': 5, 'subsample': 0.9, 'colsample_bytree': 0.5, 'objective':'multi:softprob', 'num_class': 3}\n",
    "steps = 20\n",
    "\n",
    "#学習\n",
    "bst = xgb.train(para, train_d, steps)\n",
    "\n",
    "#予測\n",
    "bst_gs = bst.predict(test_d)\n",
    "\n",
    "#精度\n",
    "best_preds = np.asarray([np.argmax(line) for line in bst_gs])\n",
    "best_preds = best_preds + 1\n",
    "print(\"Score：\", round(accuracy_score(y_valid, best_preds), 4))"
   ]
  },
  {
   "cell_type": "markdown",
   "id": "76e51e52-324c-47a8-b445-c47f60965341",
   "metadata": {},
   "source": [
    "XGBoostにおいてもpara(パラメータ)を動かして精度を比較してみたが、学習が進展しなくなったので、上記のスコアにて学習を止めた。"
   ]
  },
  {
   "cell_type": "code",
   "execution_count": 246,
   "id": "ff81c283-a380-45ed-9b6a-caa61f3d0461",
   "metadata": {},
   "outputs": [
    {
     "name": "stdout",
     "output_type": "stream",
     "text": [
      "Train Score: 0.817\n",
      "Test Score: 0.836\n",
      "Test - Train:  -0.019\n"
     ]
    }
   ],
   "source": [
    "#ロジスティック回帰\n",
    "lr = LogisticRegression(random_state = 50, max_iter = 800)\n",
    "lr.fit(X_train, y_train)\n",
    "a = round(lr.score(X_train, y_train), 3)\n",
    "b = round(lr.score(X_valid, y_valid), 3)\n",
    "d = round(a - b, 3)\n",
    "\n",
    "print('Train Score: {}'.format(round(lr.score(X_train, y_train), 3)))\n",
    "print('Test Score: {}'.format(round(lr.score(X_valid, y_valid), 3)))\n",
    "print('Test - Train: ', d)"
   ]
  },
  {
   "cell_type": "markdown",
   "id": "44f0d51e-429b-4935-b02b-68757bc23ab7",
   "metadata": {},
   "source": [
    "ロジスティック回帰においては上記の結果となった。精度の向上のためには特徴量エンジニアリングなどの技術が必要となるため、今の私には精度の向上が見込めないため、ここで学習を止めた。"
   ]
  },
  {
   "cell_type": "code",
   "execution_count": 247,
   "id": "b55212a3-211d-4765-a4e2-0d489d34ed54",
   "metadata": {},
   "outputs": [
    {
     "name": "stdout",
     "output_type": "stream",
     "text": [
      "Train Score: 0.892\n",
      " Test Score: 0.866\n",
      "Test - Train:  0.026\n"
     ]
    }
   ],
   "source": [
    "#多層パーセプトロン\n",
    "mlpc = MLPClassifier(hidden_layer_sizes=(100, 100, 10), random_state=0)\n",
    "mlpc.fit(X_train, y_train)\n",
    "a = round(mlpc.score(X_train, y_train), 3)\n",
    "b = round(mlpc.score(X_valid, y_valid), 3)\n",
    "d = round(a - b, 3)\n",
    "\n",
    "print('Train Score: {}'.format(round(mlpc.score(X_train, y_train), 3)))\n",
    "print(' Test Score: {}'.format(round(mlpc.score(X_valid, y_valid), 3)))\n",
    "print('Test - Train: ', d)"
   ]
  },
  {
   "cell_type": "markdown",
   "id": "9a216803-2c00-436e-81f9-70182ed167e7",
   "metadata": {},
   "source": [
    "多層パーセプトロンにおいても同様の理由で、ここで学習を止めた。"
   ]
  },
  {
   "cell_type": "markdown",
   "id": "a9edc37d-fe92-4192-86ee-2a69680102a0",
   "metadata": {},
   "source": [
    "### 4.まとめ\n",
    "今回のレポートでは、予測精度の高い順にXGBoost、ランダムフォレスト、多層パーセプトロン、ロジスティック回帰と4つのモデルが並んだ。XGBoostとランダムフォレストにおいては、パラメータを調整できたため予測精度を向上させることができた。しかし、多層パーセプトロンとロジスティック回帰においては、パラメータの調整も十分に行えず、他の手法をとる必要があったため、現在の私では予測精度の向上をあきらめることになってしまった。次挑戦する機会があれば、多層パーセプトロンとロジスティック回帰においてもモデルの改善を行い、より高い精度で予測できるようにしたい。"
   ]
  }
 ],
 "metadata": {
  "kernelspec": {
   "display_name": "Python 3 (ipykernel)",
   "language": "python",
   "name": "python3"
  },
  "language_info": {
   "codemirror_mode": {
    "name": "ipython",
    "version": 3
   },
   "file_extension": ".py",
   "mimetype": "text/x-python",
   "name": "python",
   "nbconvert_exporter": "python",
   "pygments_lexer": "ipython3",
   "version": "3.10.12"
  }
 },
 "nbformat": 4,
 "nbformat_minor": 5
}
